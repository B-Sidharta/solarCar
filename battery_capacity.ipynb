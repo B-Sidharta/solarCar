{
 "cells": [
  {
   "cell_type": "markdown",
   "metadata": {},
   "source": [
    "\n",
    "# University of Calgary Solar Car Team\n",
    "## Battery Capacity Calculator"
   ]
  },
  {
   "cell_type": "markdown",
   "metadata": {},
   "source": [
    "### Packages"
   ]
  },
  {
   "cell_type": "markdown",
   "metadata": {},
   "source": [
    "#### pint \n",
    "Python library designed for managing physical quantities and units."
   ]
  },
  {
   "cell_type": "markdown",
   "metadata": {},
   "source": [
    "### Car Attributes Description"
   ]
  },
  {
   "cell_type": "markdown",
   "metadata": {},
   "source": [
    "\n",
    "#### Mass\n",
    "\n",
    "Total mass of the car (Kg)\n",
    "- [Helios Total Mass Calculations](https://uofc.sharepoint.com/:x:/r/sites/CalgarySolarCarTeam/Shared%20Documents/0.2%20Mechanical/Helios%20Battery%20Pack/Weight%20Estimates.xlsx?d=w8a2ccea6332b40eeab0cacf0554fe7bf&csf=1&web=1&e=ommbDp)\n",
    "- Elysia: 600 kg\n",
    "- Helios: 1000 kg \n",
    "\n"
   ]
  },
  {
   "cell_type": "markdown",
   "metadata": {},
   "source": [
    "\n",
    "#### Frontal Area\n",
    "\n",
    "Frontal area of the car that's exposed to the oncoming air. (m^2)\n",
    "- Elysia: 1.70 m^2\n",
    "- Helios: 1.66 m^2\n",
    "\n",
    "![Helios Frontal Area](helios_frontal_area.png) ![Elysia Frontal Area](elysia_frontal_area.png)\n"
   ]
  },
  {
   "cell_type": "markdown",
   "metadata": {},
   "source": [
    "#### Drag Coefficient \n",
    "Dimensionless coefficient that represents the aerodynamic efficiency of the car's shape. Found using CFD in ANSYS\n",
    "- Elysia: 0.14\n",
    "- Helios: 0.135"
   ]
  },
  {
   "cell_type": "markdown",
   "metadata": {},
   "source": [
    "#### Tire Pressure\n",
    "Tire inflation pressure in psi\n",
    "- Elysia: 35 psi\n",
    "- Helios: 35 psi\n"
   ]
  },
  {
   "cell_type": "markdown",
   "metadata": {},
   "source": [
    "### Environment Description"
   ]
  },
  {
   "cell_type": "markdown",
   "metadata": {},
   "source": [
    "#### Air Density \n",
    "Density of air at specified temperature and pressure. (kg/m^3)\n",
    "- 1.164 kg/m^3 at 30 degrees celsius\n",
    "\n",
    "    ![Air Density](air_density.png)"
   ]
  },
  {
   "cell_type": "markdown",
   "metadata": {},
   "source": [
    "### Calculation Explanations"
   ]
  },
  {
   "cell_type": "markdown",
   "metadata": {},
   "source": [
    "#### Rolling Resistance \n",
    "Rolling resistance is the force that slows down a car as its tires roll on the road.\n",
    "\n",
    "$F_r = c_r * N$\n",
    "\n",
    "where: \n",
    "- $F_r$ - Rolling resistance force (N)\n",
    "- $c_r$ - Rolling coefficient\n",
    "- N - Weight of the car acting on the tires (N)\n",
    "\n",
    "Coefficient of rolling resistance $c_r$ can be calculated using the following equation:\n",
    "\n",
    "Assumption: Air filled tires on dry roads.\n",
    "\n",
    "\n",
    "$ c_r = 0.005 + (\\dfrac{1}{p}) * (0.01 + 0.0095 * (\\dfrac{v}{100})^2) $\n",
    "\n",
    "where: \n",
    "- p - Tire pressure (bar)\n",
    "- v - Velocity (km/h)\n"
   ]
  },
  {
   "cell_type": "markdown",
   "metadata": {},
   "source": [
    "#### Drag Force \n",
    "Drag force on a car is the resistance it encounters when moving through the air.\n",
    "\n",
    "$ F_d = \\dfrac{1}{2} \\rho A c_d v^2 $\n",
    "\n",
    "where: \n",
    "\n",
    "- $F_d$ - Drag force (N)\n",
    "- $\\rho$ - Air density (kg / $m^3$)\n",
    "- A - Frontal area ($m^2$)\n",
    "- $c_d$ - Drag coefficient \n",
    "- $v$ - Velocity of the car relative to air (m/s)"
   ]
  },
  {
   "cell_type": "markdown",
   "metadata": {},
   "source": [
    "#### Total Mechanical Force "
   ]
  },
  {
   "cell_type": "markdown",
   "metadata": {},
   "source": [
    "#### Mechanical Power"
   ]
  },
  {
   "cell_type": "markdown",
   "metadata": {},
   "source": [
    "### Code"
   ]
  },
  {
   "cell_type": "code",
   "execution_count": 119,
   "metadata": {},
   "outputs": [
    {
     "name": "stdout",
     "output_type": "stream",
     "text": [
      "Requirement already satisfied: pint in /Users/billysidharta/anaconda3/envs/personal/lib/python3.10/site-packages (0.22)\n",
      "Requirement already satisfied: typing-extensions in /Users/billysidharta/anaconda3/envs/personal/lib/python3.10/site-packages (from pint) (4.1.1)\n",
      "\u001b[33mWARNING: There was an error checking the latest version of pip.\u001b[0m\u001b[33m\n",
      "\u001b[0m"
     ]
    }
   ],
   "source": [
    "!pip install pint\n",
    "import pint\n",
    "ureg = pint.UnitRegistry()"
   ]
  },
  {
   "cell_type": "code",
   "execution_count": 120,
   "metadata": {},
   "outputs": [
    {
     "data": {
      "text/html": [
       "<div>\n",
       "<style scoped>\n",
       "    .dataframe tbody tr th:only-of-type {\n",
       "        vertical-align: middle;\n",
       "    }\n",
       "\n",
       "    .dataframe tbody tr th {\n",
       "        vertical-align: top;\n",
       "    }\n",
       "\n",
       "    .dataframe thead th {\n",
       "        text-align: right;\n",
       "    }\n",
       "</style>\n",
       "<table border=\"1\" class=\"dataframe\">\n",
       "  <thead>\n",
       "    <tr style=\"text-align: right;\">\n",
       "      <th></th>\n",
       "      <th>scenario</th>\n",
       "      <th>mass (kg)</th>\n",
       "      <th>frontal_area (m^2)</th>\n",
       "      <th>drag_coefficient</th>\n",
       "      <th>tire_pressure (psi)</th>\n",
       "      <th>velocity (km/h)</th>\n",
       "    </tr>\n",
       "    <tr>\n",
       "      <th>Scenario_ID</th>\n",
       "      <th></th>\n",
       "      <th></th>\n",
       "      <th></th>\n",
       "      <th></th>\n",
       "      <th></th>\n",
       "      <th></th>\n",
       "    </tr>\n",
       "  </thead>\n",
       "  <tbody>\n",
       "    <tr>\n",
       "      <th>0</th>\n",
       "      <td>Elysia</td>\n",
       "      <td>600</td>\n",
       "      <td>1.70</td>\n",
       "      <td>0.140</td>\n",
       "      <td>35</td>\n",
       "      <td>60</td>\n",
       "    </tr>\n",
       "    <tr>\n",
       "      <th>1</th>\n",
       "      <td>Helios</td>\n",
       "      <td>1000</td>\n",
       "      <td>1.66</td>\n",
       "      <td>0.135</td>\n",
       "      <td>35</td>\n",
       "      <td>60</td>\n",
       "    </tr>\n",
       "  </tbody>\n",
       "</table>\n",
       "</div>"
      ],
      "text/plain": [
       "            scenario  mass (kg)  frontal_area (m^2)  drag_coefficient  \\\n",
       "Scenario_ID                                                             \n",
       "0             Elysia        600                1.70             0.140   \n",
       "1             Helios       1000                1.66             0.135   \n",
       "\n",
       "             tire_pressure (psi)  velocity (km/h)  \n",
       "Scenario_ID                                        \n",
       "0                             35               60  \n",
       "1                             35               60  "
      ]
     },
     "execution_count": 120,
     "metadata": {},
     "output_type": "execute_result"
    }
   ],
   "source": [
    "import pandas as pd\n",
    "\n",
    "columns = ['scenario', 'mass (kg)', 'frontal_area (m^2)', 'drag_coefficient', 'tire_pressure (psi)', 'velocity (km/h)']\n",
    "input_df = pd.DataFrame(columns=columns)\n",
    "input_df.index.name = 'Scenario_ID'\n",
    "input_df.loc[0] = ['Elysia', 600, 1.7, 0.14, 35, 60]\n",
    "input_df.loc[1] = ['Helios', 1000, 1.66, 0.135, 35, 60]\n",
    "\n",
    "input_df"
   ]
  },
  {
   "cell_type": "code",
   "execution_count": 121,
   "metadata": {},
   "outputs": [],
   "source": [
    "number_of_rows = input_df.shape[0]"
   ]
  },
  {
   "cell_type": "code",
   "execution_count": 122,
   "metadata": {},
   "outputs": [],
   "source": [
    "# Car Variables \n",
    "\n",
    "id = 0\n",
    "\n",
    "scenario = input_df.iloc[id]['scenario']\n",
    "\n",
    "mass = input_df.iloc[id]['mass (kg)'] * ureg.kilogram\n",
    "frontal_area = input_df.iloc[id]['frontal_area (m^2)'] * ureg.meter**2\n",
    "drag_coefficient = input_df.iloc[id]['drag_coefficient']\n",
    "tire_pressure = input_df.iloc[id]['tire_pressure (psi)'] * ureg.psi\n",
    "velocity = input_df.iloc[id]['velocity (km/h)'] * ureg.kilometer / ureg.hour\n"
   ]
  },
  {
   "cell_type": "code",
   "execution_count": 123,
   "metadata": {},
   "outputs": [],
   "source": [
    "# Environment Variables\n",
    "\n",
    "air_density = 1.164 * ureg.kilogram / ureg.meter**3\n",
    "gravity = 9.81 * ureg.meter / ureg.second**2"
   ]
  },
  {
   "cell_type": "code",
   "execution_count": 124,
   "metadata": {},
   "outputs": [],
   "source": [
    "# Force Calculations \n",
    "# DO NOT MODIFY THIS SECTION\n",
    "\n",
    "drag_force = (0.5 * air_density * frontal_area * drag_coefficient * velocity.to(ureg.meter / ureg.second)**2).to(ureg.newton)\n",
    "\n",
    "rolling_resistance_coef = 0.005 + (1 * ureg.bar  / tire_pressure.to(ureg.bar)) * (0.01 + 0.0095*pow(velocity/100, 2) * (1 * ureg.hour**2 / ureg.kilometer**2)) \n",
    "rolling_resistance_force = (rolling_resistance_coef * mass * gravity).to(ureg.newton)"
   ]
  },
  {
   "cell_type": "code",
   "execution_count": 125,
   "metadata": {},
   "outputs": [
    {
     "name": "stderr",
     "output_type": "stream",
     "text": [
      "/Users/billysidharta/anaconda3/envs/personal/lib/python3.10/site-packages/pandas/core/dtypes/cast.py:1981: UnitStrippedWarning: The unit of the quantity is stripped when downcasting to ndarray.\n",
      "  result[:] = values\n"
     ]
    },
    {
     "data": {
      "text/html": [
       "<div>\n",
       "<style scoped>\n",
       "    .dataframe tbody tr th:only-of-type {\n",
       "        vertical-align: middle;\n",
       "    }\n",
       "\n",
       "    .dataframe tbody tr th {\n",
       "        vertical-align: top;\n",
       "    }\n",
       "\n",
       "    .dataframe thead th {\n",
       "        text-align: right;\n",
       "    }\n",
       "</style>\n",
       "<table border=\"1\" class=\"dataframe\">\n",
       "  <thead>\n",
       "    <tr style=\"text-align: right;\">\n",
       "      <th></th>\n",
       "      <th>scenario</th>\n",
       "      <th>rolling_resistance_coef</th>\n",
       "      <th>rolling_resistance_force (N)</th>\n",
       "      <th>drag_force (N)</th>\n",
       "    </tr>\n",
       "    <tr>\n",
       "      <th>Scenario_ID</th>\n",
       "      <th></th>\n",
       "      <th></th>\n",
       "      <th></th>\n",
       "      <th></th>\n",
       "    </tr>\n",
       "  </thead>\n",
       "  <tbody>\n",
       "    <tr>\n",
       "      <th>0</th>\n",
       "      <td>Elysia</td>\n",
       "      <td>0.0106 dimensionless</td>\n",
       "      <td>62.163 newton</td>\n",
       "      <td>38.4767 newton</td>\n",
       "    </tr>\n",
       "  </tbody>\n",
       "</table>\n",
       "</div>"
      ],
      "text/plain": [
       "            scenario rolling_resistance_coef rolling_resistance_force (N)  \\\n",
       "Scenario_ID                                                                 \n",
       "0             Elysia    0.0106 dimensionless                62.163 newton   \n",
       "\n",
       "             drag_force (N)  \n",
       "Scenario_ID                  \n",
       "0            38.4767 newton  "
      ]
     },
     "execution_count": 125,
     "metadata": {},
     "output_type": "execute_result"
    }
   ],
   "source": [
    "# Force Output Data\n",
    "columns = ['scenario', 'rolling_resistance_coef', 'rolling_resistance_force (N)', 'drag_force (N)']\n",
    "force_output_df = pd.DataFrame(columns=columns)\n",
    "force_output_df.index.name = 'Scenario_ID'\n",
    "force_output_df.loc[id] = [scenario, round(rolling_resistance_coef,4), round(rolling_resistance_force,4), round(drag_force,4)]\n",
    "force_output_df\n",
    "\n"
   ]
  },
  {
   "cell_type": "code",
   "execution_count": 126,
   "metadata": {},
   "outputs": [
    {
     "name": "stdout",
     "output_type": "stream",
     "text": [
      "62.162995165250706 newton\n",
      "38.476666666666674 newton\n"
     ]
    }
   ],
   "source": [
    "print(rolling_resistance_force)\n",
    "print(drag_force)"
   ]
  },
  {
   "cell_type": "code",
   "execution_count": 127,
   "metadata": {},
   "outputs": [
    {
     "data": {
      "text/plain": [
       "scenario                        object\n",
       "rolling_resistance_coef         object\n",
       "rolling_resistance_force (N)    object\n",
       "drag_force (N)                  object\n",
       "dtype: object"
      ]
     },
     "execution_count": 127,
     "metadata": {},
     "output_type": "execute_result"
    }
   ],
   "source": [
    "output_df.dtypes"
   ]
  }
 ],
 "metadata": {
  "kernelspec": {
   "display_name": "personal",
   "language": "python",
   "name": "python3"
  },
  "language_info": {
   "codemirror_mode": {
    "name": "ipython",
    "version": 3
   },
   "file_extension": ".py",
   "mimetype": "text/x-python",
   "name": "python",
   "nbconvert_exporter": "python",
   "pygments_lexer": "ipython3",
   "version": "3.10.11"
  }
 },
 "nbformat": 4,
 "nbformat_minor": 2
}
